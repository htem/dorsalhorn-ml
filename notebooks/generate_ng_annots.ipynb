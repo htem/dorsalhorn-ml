{
 "cells": [
  {
   "cell_type": "code",
   "execution_count": 3,
   "id": "3fbe8cc5-1f11-4cee-81f8-05c63008ef5c",
   "metadata": {},
   "outputs": [],
   "source": [
    "# Libraries\n",
    "import caveclient\n",
    "import subprocess\n",
    "import json\n",
    "import numpy as np\n",
    "import matplotlib.pyplot as plt"
   ]
  },
  {
   "cell_type": "code",
   "execution_count": 2,
   "id": "5c3afc60-a47a-4e7e-b24c-974a466ed43c",
   "metadata": {},
   "outputs": [],
   "source": [
    "def create_copy_paste_annot_list(annot_pt_list = [], mip=(32,32,45), description_list = None, connected=False):\n",
    "    \"\"\" list of annotations to copy/paste to spleunker.cave \"\"\"\n",
    "    if description_list == None:\n",
    "        description_list = [\"\" for _ in range(len(annot_pt_list))]\n",
    "    else:\n",
    "        assert len(annot_pt_list) == len(description_list)\n",
    "\n",
    "    annots = []\n",
    "    for i, pt in enumerate(annot_pt_list):\n",
    "        if connected:\n",
    "            pt_dict = {\n",
    "              \"pointA\": list([int(pt[0][0]/mip[0]), int(pt[0][1]/mip[1]), int(pt[0][2]/mip[2])]),\n",
    "              \"pointB\": list([int(pt[1][0]/mip[0]), int(pt[1][1]/mip[1]), int(pt[1][2]/mip[2])]),\n",
    "              \"type\": \"line\",\n",
    "              \"id\": \"a6f2611ba4basd3635da2ea158ee9853fab0da\"+str(i), # random id. Needs to be unique for each annot\n",
    "              \"description\": pt[2]\n",
    "            }\n",
    "        else:\n",
    "            pt_dict = {\"point\": list([int(pt[0]/mip[0]), int(pt[1]/mip[1]), int(pt[2]/mip[2])]), \"description\": str(description_list[i]), \"type\": \"point\", \"id\": \"b6f2611ba4basd3635da2ea158ee9853fab0dabf\"+str(i)}\n",
    "            \n",
    "        annots.append(pt_dict)\n",
    "    subprocess.run(\"pbcopy\", text=True, input=json.dumps(annots))\n",
    "    return annots"
   ]
  },
  {
   "cell_type": "code",
   "execution_count": 4,
   "id": "d33007ec-967b-4ea0-a714-05d42dcba14b",
   "metadata": {},
   "outputs": [],
   "source": [
    "client = caveclient.CAVEclient()\n",
    "client.auth.get_new_token()\n",
    "client.auth.save_token(token=\"1d17960488e2427f0ac1bca29a6dc8e6\")"
   ]
  },
  {
   "cell_type": "code",
   "execution_count": null,
   "id": "1c546b24-515f-4bbf-b8c5-c3ee48c5509c",
   "metadata": {},
   "outputs": [],
   "source": []
  },
  {
   "cell_type": "markdown",
   "id": "bd995db0-aa6a-4ba7-81c0-320c385b120a",
   "metadata": {},
   "source": [
    "### After caveclient token auth"
   ]
  },
  {
   "cell_type": "code",
   "execution_count": 25,
   "id": "c6f2d269-4328-41ac-95c6-789f3d2107a5",
   "metadata": {},
   "outputs": [],
   "source": [
    "# Setup caveclient\n",
    "client = caveclient.CAVEclient(\"wclee_mouse_spinalcord_cltmr\", ) #server_address='https://global.daf-apis.com')"
   ]
  },
  {
   "cell_type": "code",
   "execution_count": 26,
   "id": "2cb388b4-d5dc-47f3-93aa-b83fd135b51f",
   "metadata": {},
   "outputs": [
    {
     "data": {
      "text/plain": [
       "{'aligned_volume': {'id': 13,\n",
       "  'name': 'wclee_mouse_spinalcord_cltmr',\n",
       "  'display_name': None,\n",
       "  'description': None,\n",
       "  'image_source': 'precomputed://gs://lee-mouse-spinal-cord-001-raw/sharded'},\n",
       " 'segmentation_source': 'graphene://https://cave.fanc-fly.com/segmentation/table/wclee_mouse_spinalcord_cltmr',\n",
       " 'skeleton_source': None,\n",
       " 'analysis_database': None,\n",
       " 'viewer_site': 'https://spelunker.cave-explorer.org/',\n",
       " 'synapse_table': None,\n",
       " 'soma_table': None,\n",
       " 'local_server': 'https://cave.fanc-fly.com',\n",
       " 'description': None,\n",
       " 'viewer_resolution_x': 32.0,\n",
       " 'viewer_resolution_y': 32.0,\n",
       " 'viewer_resolution_z': 45.0,\n",
       " 'proofreading_status_table': None,\n",
       " 'cell_identification_table': None,\n",
       " 'proofreading_review_table': None}"
      ]
     },
     "execution_count": 26,
     "metadata": {},
     "output_type": "execute_result"
    }
   ],
   "source": [
    "client.info.get_datastack_info()"
   ]
  },
  {
   "cell_type": "code",
   "execution_count": 4,
   "id": "f18ae3f6-3ca6-45c0-86bc-f701c610b6ec",
   "metadata": {},
   "outputs": [],
   "source": [
    "# Synapses df\n",
    "pre_synapses_df = client.materialize.query_table('synapses_v2', filter_equal_dict = {'post_pt_root_id': 720575940912536454})"
   ]
  },
  {
   "cell_type": "code",
   "execution_count": 5,
   "id": "ad38fef0-f5b6-4e08-ad55-e3d3712dc264",
   "metadata": {},
   "outputs": [
    {
     "data": {
      "text/html": [
       "<div>\n",
       "<style scoped>\n",
       "    .dataframe tbody tr th:only-of-type {\n",
       "        vertical-align: middle;\n",
       "    }\n",
       "\n",
       "    .dataframe tbody tr th {\n",
       "        vertical-align: top;\n",
       "    }\n",
       "\n",
       "    .dataframe thead th {\n",
       "        text-align: right;\n",
       "    }\n",
       "</style>\n",
       "<table border=\"1\" class=\"dataframe\">\n",
       "  <thead>\n",
       "    <tr style=\"text-align: right;\">\n",
       "      <th></th>\n",
       "      <th>id</th>\n",
       "      <th>created</th>\n",
       "      <th>superceded_id</th>\n",
       "      <th>valid</th>\n",
       "      <th>size</th>\n",
       "      <th>pre_pt_supervoxel_id</th>\n",
       "      <th>pre_pt_root_id</th>\n",
       "      <th>post_pt_supervoxel_id</th>\n",
       "      <th>post_pt_root_id</th>\n",
       "      <th>pre_pt_position</th>\n",
       "      <th>post_pt_position</th>\n",
       "      <th>ctr_pt_position</th>\n",
       "    </tr>\n",
       "  </thead>\n",
       "  <tbody>\n",
       "    <tr>\n",
       "      <th>0</th>\n",
       "      <td>12066612</td>\n",
       "      <td>2025-03-25 13:39:09.340218+00:00</td>\n",
       "      <td>NaN</td>\n",
       "      <td>t</td>\n",
       "      <td>15</td>\n",
       "      <td>74522287864398084</td>\n",
       "      <td>720575940885955766</td>\n",
       "      <td>73536575757118701</td>\n",
       "      <td>720575940912536454</td>\n",
       "      <td>[304864, 218976, 104085]</td>\n",
       "      <td>[304768, 219232, 103680]</td>\n",
       "      <td>[304672, 219056, 103950]</td>\n",
       "    </tr>\n",
       "    <tr>\n",
       "      <th>1</th>\n",
       "      <td>12982536</td>\n",
       "      <td>2025-03-25 13:39:09.340218+00:00</td>\n",
       "      <td>NaN</td>\n",
       "      <td>t</td>\n",
       "      <td>22</td>\n",
       "      <td>73607561969938222</td>\n",
       "      <td>720575940851947923</td>\n",
       "      <td>73537193091551675</td>\n",
       "      <td>720575940912536454</td>\n",
       "      <td>[315856, 291904, 14805]</td>\n",
       "      <td>[315904, 292128, 14760]</td>\n",
       "      <td>[315888, 292032, 14715]</td>\n",
       "    </tr>\n",
       "    <tr>\n",
       "      <th>2</th>\n",
       "      <td>13708348</td>\n",
       "      <td>2025-03-25 13:39:09.340218+00:00</td>\n",
       "      <td>NaN</td>\n",
       "      <td>t</td>\n",
       "      <td>4</td>\n",
       "      <td>73746857490198032</td>\n",
       "      <td>720575940380055967</td>\n",
       "      <td>73746857490214144</td>\n",
       "      <td>720575940912536454</td>\n",
       "      <td>[334848, 116176, 116730]</td>\n",
       "      <td>[334592, 115984, 117090]</td>\n",
       "      <td>[334720, 116112, 116820]</td>\n",
       "    </tr>\n",
       "    <tr>\n",
       "      <th>3</th>\n",
       "      <td>15818175</td>\n",
       "      <td>2025-03-25 13:39:09.340218+00:00</td>\n",
       "      <td>NaN</td>\n",
       "      <td>t</td>\n",
       "      <td>399</td>\n",
       "      <td>74169069888221042</td>\n",
       "      <td>720575940912536454</td>\n",
       "      <td>74169069888221042</td>\n",
       "      <td>720575940912536454</td>\n",
       "      <td>[375728, 117856, 114255]</td>\n",
       "      <td>[375728, 117856, 114255]</td>\n",
       "      <td>[375808, 117856, 114390]</td>\n",
       "    </tr>\n",
       "    <tr>\n",
       "      <th>4</th>\n",
       "      <td>15896226</td>\n",
       "      <td>2025-03-25 13:39:09.340218+00:00</td>\n",
       "      <td>NaN</td>\n",
       "      <td>t</td>\n",
       "      <td>238</td>\n",
       "      <td>74591419792203675</td>\n",
       "      <td>720575940900740286</td>\n",
       "      <td>74098769930575685</td>\n",
       "      <td>720575940912536454</td>\n",
       "      <td>[374064, 130960, 116595]</td>\n",
       "      <td>[373744, 130944, 117000]</td>\n",
       "      <td>[373920, 131072, 116775]</td>\n",
       "    </tr>\n",
       "    <tr>\n",
       "      <th>...</th>\n",
       "      <td>...</td>\n",
       "      <td>...</td>\n",
       "      <td>...</td>\n",
       "      <td>...</td>\n",
       "      <td>...</td>\n",
       "      <td>...</td>\n",
       "      <td>...</td>\n",
       "      <td>...</td>\n",
       "      <td>...</td>\n",
       "      <td>...</td>\n",
       "      <td>...</td>\n",
       "      <td>...</td>\n",
       "    </tr>\n",
       "    <tr>\n",
       "      <th>4705</th>\n",
       "      <td>37517381</td>\n",
       "      <td>2025-03-25 13:39:09.340218+00:00</td>\n",
       "      <td>NaN</td>\n",
       "      <td>t</td>\n",
       "      <td>910</td>\n",
       "      <td>77124488424170299</td>\n",
       "      <td>720575940862181479</td>\n",
       "      <td>76068888676150364</td>\n",
       "      <td>720575940912536454</td>\n",
       "      <td>[723296, 116496, 112185]</td>\n",
       "      <td>[722800, 116288, 112365]</td>\n",
       "      <td>[723152, 116352, 112455]</td>\n",
       "    </tr>\n",
       "    <tr>\n",
       "      <th>4706</th>\n",
       "      <td>40600848</td>\n",
       "      <td>2025-03-25 13:39:09.340218+00:00</td>\n",
       "      <td>NaN</td>\n",
       "      <td>t</td>\n",
       "      <td>382</td>\n",
       "      <td>77335663309004553</td>\n",
       "      <td>720575940862181479</td>\n",
       "      <td>76068888676150364</td>\n",
       "      <td>720575940912536454</td>\n",
       "      <td>[772208, 131872, 109080]</td>\n",
       "      <td>[772464, 131792, 108720]</td>\n",
       "      <td>[772416, 131792, 108900]</td>\n",
       "    </tr>\n",
       "    <tr>\n",
       "      <th>4707</th>\n",
       "      <td>20796901</td>\n",
       "      <td>2025-03-25 13:39:09.340218+00:00</td>\n",
       "      <td>NaN</td>\n",
       "      <td>t</td>\n",
       "      <td>813</td>\n",
       "      <td>74872963689731507</td>\n",
       "      <td>720575940909766104</td>\n",
       "      <td>76068888676150364</td>\n",
       "      <td>720575940912536454</td>\n",
       "      <td>[459264, 144912, 129690]</td>\n",
       "      <td>[459504, 144416, 129735]</td>\n",
       "      <td>[459696, 144672, 129735]</td>\n",
       "    </tr>\n",
       "    <tr>\n",
       "      <th>4708</th>\n",
       "      <td>35646428</td>\n",
       "      <td>2025-03-25 13:39:09.340218+00:00</td>\n",
       "      <td>NaN</td>\n",
       "      <td>t</td>\n",
       "      <td>553</td>\n",
       "      <td>77124763234902724</td>\n",
       "      <td>720575940918773041</td>\n",
       "      <td>76068888676150364</td>\n",
       "      <td>720575940912536454</td>\n",
       "      <td>[696208, 147520, 106380]</td>\n",
       "      <td>[695728, 147792, 106290]</td>\n",
       "      <td>[696095, 147551, 106154]</td>\n",
       "    </tr>\n",
       "    <tr>\n",
       "      <th>4709</th>\n",
       "      <td>33089450</td>\n",
       "      <td>2025-03-25 13:39:09.340218+00:00</td>\n",
       "      <td>NaN</td>\n",
       "      <td>t</td>\n",
       "      <td>472</td>\n",
       "      <td>76561813617070243</td>\n",
       "      <td>720575940920031985</td>\n",
       "      <td>76068888676150364</td>\n",
       "      <td>720575940912536454</td>\n",
       "      <td>[659952, 146080, 133875]</td>\n",
       "      <td>[660256, 146528, 133965]</td>\n",
       "      <td>[659866, 145914, 134263]</td>\n",
       "    </tr>\n",
       "  </tbody>\n",
       "</table>\n",
       "<p>4710 rows × 12 columns</p>\n",
       "</div>"
      ],
      "text/plain": [
       "            id                          created  superceded_id valid  size  \\\n",
       "0     12066612 2025-03-25 13:39:09.340218+00:00            NaN     t    15   \n",
       "1     12982536 2025-03-25 13:39:09.340218+00:00            NaN     t    22   \n",
       "2     13708348 2025-03-25 13:39:09.340218+00:00            NaN     t     4   \n",
       "3     15818175 2025-03-25 13:39:09.340218+00:00            NaN     t   399   \n",
       "4     15896226 2025-03-25 13:39:09.340218+00:00            NaN     t   238   \n",
       "...        ...                              ...            ...   ...   ...   \n",
       "4705  37517381 2025-03-25 13:39:09.340218+00:00            NaN     t   910   \n",
       "4706  40600848 2025-03-25 13:39:09.340218+00:00            NaN     t   382   \n",
       "4707  20796901 2025-03-25 13:39:09.340218+00:00            NaN     t   813   \n",
       "4708  35646428 2025-03-25 13:39:09.340218+00:00            NaN     t   553   \n",
       "4709  33089450 2025-03-25 13:39:09.340218+00:00            NaN     t   472   \n",
       "\n",
       "      pre_pt_supervoxel_id      pre_pt_root_id  post_pt_supervoxel_id  \\\n",
       "0        74522287864398084  720575940885955766      73536575757118701   \n",
       "1        73607561969938222  720575940851947923      73537193091551675   \n",
       "2        73746857490198032  720575940380055967      73746857490214144   \n",
       "3        74169069888221042  720575940912536454      74169069888221042   \n",
       "4        74591419792203675  720575940900740286      74098769930575685   \n",
       "...                    ...                 ...                    ...   \n",
       "4705     77124488424170299  720575940862181479      76068888676150364   \n",
       "4706     77335663309004553  720575940862181479      76068888676150364   \n",
       "4707     74872963689731507  720575940909766104      76068888676150364   \n",
       "4708     77124763234902724  720575940918773041      76068888676150364   \n",
       "4709     76561813617070243  720575940920031985      76068888676150364   \n",
       "\n",
       "         post_pt_root_id           pre_pt_position          post_pt_position  \\\n",
       "0     720575940912536454  [304864, 218976, 104085]  [304768, 219232, 103680]   \n",
       "1     720575940912536454   [315856, 291904, 14805]   [315904, 292128, 14760]   \n",
       "2     720575940912536454  [334848, 116176, 116730]  [334592, 115984, 117090]   \n",
       "3     720575940912536454  [375728, 117856, 114255]  [375728, 117856, 114255]   \n",
       "4     720575940912536454  [374064, 130960, 116595]  [373744, 130944, 117000]   \n",
       "...                  ...                       ...                       ...   \n",
       "4705  720575940912536454  [723296, 116496, 112185]  [722800, 116288, 112365]   \n",
       "4706  720575940912536454  [772208, 131872, 109080]  [772464, 131792, 108720]   \n",
       "4707  720575940912536454  [459264, 144912, 129690]  [459504, 144416, 129735]   \n",
       "4708  720575940912536454  [696208, 147520, 106380]  [695728, 147792, 106290]   \n",
       "4709  720575940912536454  [659952, 146080, 133875]  [660256, 146528, 133965]   \n",
       "\n",
       "               ctr_pt_position  \n",
       "0     [304672, 219056, 103950]  \n",
       "1      [315888, 292032, 14715]  \n",
       "2     [334720, 116112, 116820]  \n",
       "3     [375808, 117856, 114390]  \n",
       "4     [373920, 131072, 116775]  \n",
       "...                        ...  \n",
       "4705  [723152, 116352, 112455]  \n",
       "4706  [772416, 131792, 108900]  \n",
       "4707  [459696, 144672, 129735]  \n",
       "4708  [696095, 147551, 106154]  \n",
       "4709  [659866, 145914, 134263]  \n",
       "\n",
       "[4710 rows x 12 columns]"
      ]
     },
     "execution_count": 5,
     "metadata": {},
     "output_type": "execute_result"
    }
   ],
   "source": [
    "pre_synapses_df"
   ]
  },
  {
   "cell_type": "code",
   "execution_count": 151,
   "id": "44196684-ace6-4bfc-b32f-5a61d1484884",
   "metadata": {},
   "outputs": [],
   "source": [
    "#len(pre_synapses_df[pre_synapses_df['pre_pt_root_id']==pre_synapses_df['post_pt_root_id']])"
   ]
  },
  {
   "cell_type": "code",
   "execution_count": 62,
   "id": "25f17bff-85cc-47af-ae71-9556a3648208",
   "metadata": {},
   "outputs": [],
   "source": [
    "# Create a coordinates list\n",
    "coordinates = []\n",
    "for i, row in pre_synapses_df.iterrows():\n",
    "    coordinates.append([row['pre_pt_position'], row['post_pt_position'], row['id']])  "
   ]
  },
  {
   "cell_type": "code",
   "execution_count": 64,
   "id": "0ed62ac0-cc4d-4f18-8b44-a3641d467923",
   "metadata": {},
   "outputs": [],
   "source": [
    "# Use util function to create copy/past version of annots ... paste to NG json file # mip=(2,2,1)\n",
    "annots = create_copy_paste_annot_list(annot_pt_list = coordinates, mip=(32,32,45), connected=True)"
   ]
  },
  {
   "cell_type": "markdown",
   "id": "fdce786c-84b6-4b2f-96c7-a18fbd79b85a",
   "metadata": {},
   "source": [
    "### Size distribution\n",
    "- Create a size distribution for some true positive synapses vs false synapse prediction"
   ]
  },
  {
   "cell_type": "code",
   "execution_count": 80,
   "id": "a9cee35d-93e1-4488-83f5-e6e5db74899b",
   "metadata": {},
   "outputs": [],
   "source": [
    "# Get neuroglancer json state\n",
    "json_state = client.state.get_state_json(4865533464805376) # modify if needed\n",
    "annots = json_state['layers'][2]['annotations'] # get annotation layer"
   ]
  },
  {
   "cell_type": "code",
   "execution_count": 82,
   "id": "98862f51-a130-43ee-bf7c-80eaf1ad0392",
   "metadata": {},
   "outputs": [],
   "source": [
    "# Generate some true false size distribution charts\n",
    "true_synapses, false_synapses  = [], []\n",
    "for annot in annots:\n",
    "    if 'description' in annot:\n",
    "        if annot['description'] == 't':\n",
    "            true_synapses.append(annot['pointA'])\n",
    "        elif annot['description'] == 'f':\n",
    "            false_synapses.append(annot['pointA'])"
   ]
  },
  {
   "cell_type": "code",
   "execution_count": 118,
   "id": "9ead9269-f1f1-4ee5-802d-3e77800f5afd",
   "metadata": {},
   "outputs": [],
   "source": [
    "tolerance = 0.005\n",
    "def within_range(x, target, tolerance):\n",
    "    lower_bound = target - target * tolerance\n",
    "    upper_bound = target + target * tolerance\n",
    "    return lower_bound <= x <= upper_bound"
   ]
  },
  {
   "cell_type": "code",
   "execution_count": 127,
   "id": "b654ba81-78e7-439c-bc1b-cc926a96f862",
   "metadata": {},
   "outputs": [],
   "source": [
    "true_sizes = []\n",
    "for ts in true_synapses:\n",
    "    target_list = np.array([ts[0]*32, ts[1]*32, ts[2]*45])\n",
    "    filtered_df = pre_synapses_df[pre_synapses_df['pre_pt_position'].apply(lambda x: all(within_range(val, target, tolerance) for val, target in zip(x, target_list)))]\n",
    "    if len(filtered_df) != 0:\n",
    "        size = filtered_df.iloc[0]['size']\n",
    "        true_sizes.append(size)\n",
    "\n",
    "false_sizes = []\n",
    "for ts in false_synapses:\n",
    "    target_list = np.array([ts[0]*32, ts[1]*32, ts[2]*45])\n",
    "    filtered_df = pre_synapses_df[pre_synapses_df['pre_pt_position'].apply(lambda x: all(within_range(val, target, tolerance) for val, target in zip(x, target_list)))]\n",
    "    if len(filtered_df) != 0:\n",
    "        size = filtered_df.iloc[0]['size']\n",
    "        false_sizes.append(size)\n",
    "\n",
    "true_sizes = np.array(true_sizes)\n",
    "false_sizes = np.array(false_sizes)"
   ]
  },
  {
   "cell_type": "code",
   "execution_count": 142,
   "id": "64703eac-d8b6-4091-99f8-5dccec2cf5fc",
   "metadata": {},
   "outputs": [],
   "source": [
    "# Add some filter?\n",
    "true_sizes_temp = true_sizes[true_sizes <= 100]\n",
    "false_sizes_temp = false_sizes[false_sizes <= 100]"
   ]
  },
  {
   "cell_type": "code",
   "execution_count": 143,
   "id": "95ce97aa-0230-4fa7-b134-1895dfe24d99",
   "metadata": {},
   "outputs": [
    {
     "data": {
      "text/plain": [
       "<matplotlib.legend.Legend at 0x7fc7f2c7ec50>"
      ]
     },
     "execution_count": 143,
     "metadata": {},
     "output_type": "execute_result"
    },
    {
     "data": {
      "image/png": "[encoded data removed]",
      "text/plain": [
       "<Figure size 800x600 with 1 Axes>"
      ]
     },
     "metadata": {},
     "output_type": "display_data"
    }
   ],
   "source": [
    "plt.figure(figsize=(8, 6))\n",
    "plt.hist(true_sizes_temp, bins=100, edgecolor='black', alpha=0.7, label='true')\n",
    "plt.hist(false_sizes_temp, bins=100, edgecolor='black', alpha=0.7, label='false')\n",
    "plt.title('True vs False synapses')\n",
    "plt.legend()"
   ]
  },
  {
   "cell_type": "code",
   "execution_count": 134,
   "id": "a1cdd4cb-f5ba-4079-aa36-f587d8c8dc7f",
   "metadata": {},
   "outputs": [
    {
     "data": {
      "text/plain": [
       "Text(0.5, 1.0, 'Distribution of size for ALL synapses')"
      ]
     },
     "execution_count": 134,
     "metadata": {},
     "output_type": "execute_result"
    },
    {
     "data": {
      "image/png": "[encoded data removed]",
      "text/plain": [
       "<Figure size 800x600 with 1 Axes>"
      ]
     },
     "metadata": {},
     "output_type": "display_data"
    }
   ],
   "source": [
    "plt.figure(figsize=(8, 6))\n",
    "plt.hist(pre_synapses_df['size'], bins=100, edgecolor='black', alpha=0.7)\n",
    "plt.title('Distribution of size for ALL synapses')"
   ]
  },
  {
   "cell_type": "markdown",
   "id": "8c1ad884-ae1c-46ff-a890-4afb219c88dd",
   "metadata": {},
   "source": [
    "### Rest"
   ]
  },
  {
   "cell_type": "code",
   "execution_count": 6,
   "id": "576065c3-2224-4d54-a478-dac28251575b",
   "metadata": {},
   "outputs": [],
   "source": [
    "# Setup caveclient\n",
    "client = caveclient.CAVEclient(\"brain_and_nerve_cord\")"
   ]
  },
  {
   "cell_type": "code",
   "execution_count": 7,
   "id": "504570c8-1b4c-45a5-9008-415218e69a34",
   "metadata": {},
   "outputs": [],
   "source": [
    "banc_cell_info = client.materialize.query_table('cell_info')"
   ]
  },
  {
   "cell_type": "code",
   "execution_count": 9,
   "id": "830e54cf-f073-4b72-b06a-f1172748fa7f",
   "metadata": {},
   "outputs": [
    {
     "data": {
      "text/plain": [
       "array(['primary class', 'anterior-posterior projection pattern',\n",
       "       'soma region', 'neuron identity', 'optic lobe intrinsic',\n",
       "       'CNS neuron', 'transmedullary', 'soma in VNC', 'medulla intrinsic',\n",
       "       'soma side', 'fast neurotransmitter',\n",
       "       'left-right projection pattern', 'sensory neuron', 'freeform',\n",
       "       'glia', 'lobula plate intrinsic', 'body part innervated',\n",
       "       'efferent neuron', 'innervates leg', 'visual projection',\n",
       "       'body side innervated', 'chordotonal neuron', 'Y neuron',\n",
       "       'lobula columnar', 'transmedullary Y', 'other neurotransmitter',\n",
       "       'distal medulla', 'soma in brain', 'innervates T1 leg',\n",
       "       'T5 neuron', 'T2 neuron', 'innervates antenna', 'leg local',\n",
       "       'lobula plate columnar', 'lamina monopolar',\n",
       "       'lobula plate lobula columnar', 'leg neuromere projection pattern',\n",
       "       'T1+T2 leg intersegmental', 'leg intersegmental',\n",
       "       'T2+T3 leg intersegmental', 'tectulum projection pattern',\n",
       "       'photoreceptor neuron', 'T1 neuron', 'visual centrifugal',\n",
       "       'lobula plate tangential', 'ventral centrifugal',\n",
       "       'horizontal system', 'vertical system', 'T3 neuron',\n",
       "       'lobula tangential', 'lobula lobula plate columnar',\n",
       "       'medulla tubercle', 'T4 neuron', 'lobula intrinsic',\n",
       "       'proximal medulla', 'centrifugal lobula plate',\n",
       "       'centrifugal lobula', 'centrifugal medulla',\n",
       "       'centrifugal medulla lobula', 'amacrine medulla'], dtype=object)"
      ]
     },
     "execution_count": 9,
     "metadata": {},
     "output_type": "execute_result"
    }
   ],
   "source": [
    "banc_cell_info['tag2'].unique()"
   ]
  },
  {
   "cell_type": "code",
   "execution_count": 11,
   "id": "f5d392b3-6bf8-4d9e-b978-579b05aaa021",
   "metadata": {},
   "outputs": [
    {
     "data": {
      "text/plain": [
       "array(['cholinergic', 'GABAergic', 'glutamatergic'], dtype=object)"
      ]
     },
     "execution_count": 11,
     "metadata": {},
     "output_type": "execute_result"
    }
   ],
   "source": [
    "banc_cell_info[banc_cell_info['tag2'] == 'fast neurotransmitter']['tag'].unique()"
   ]
  },
  {
   "cell_type": "code",
   "execution_count": null,
   "id": "efab05aa-f82f-4de1-8a6a-0c39305d6cfc",
   "metadata": {},
   "outputs": [],
   "source": []
  }
 ],
 "metadata": {
  "kernelspec": {
   "display_name": "Python 3 (ipykernel)",
   "language": "python",
   "name": "python3"
  },
  "language_info": {
   "codemirror_mode": {
    "name": "ipython",
    "version": 3
   },
   "file_extension": ".py",
   "mimetype": "text/x-python",
   "name": "python",
   "nbconvert_exporter": "python",
   "pygments_lexer": "ipython3",
   "version": "3.10.0"
  }
 },
 "nbformat": 4,
 "nbformat_minor": 5
}
