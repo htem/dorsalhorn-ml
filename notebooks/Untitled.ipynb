{
 "cells": [
  {
   "cell_type": "code",
   "execution_count": 1,
   "id": "2d923cbe-508c-448e-98c0-ef7f62b30372",
   "metadata": {},
   "outputs": [],
   "source": [
    "import warnings\n",
    "warnings.filterwarnings('ignore')\n",
    "import argparse\n",
    "import os\n",
    "import sys\n",
    "import cloudvolume\n",
    "import glob\n",
    "import json\n",
    "import numpy as np\n",
    "import pickle\n",
    "from tqdm import tqdm\n",
    "import yaml\n",
    "\n",
    "sys.path.append('/n/data3_vast/hms/neurobio/htem2/users/kd193/spinal_cord_embedding')\n",
    "from embed.utils import * # custom library with util functions\n",
    "import concurrent.futures\n"
   ]
  },
  {
   "cell_type": "code",
   "execution_count": 2,
   "id": "5823f39e-ed80-4508-92e7-e4580653ec78",
   "metadata": {},
   "outputs": [],
   "source": [
    "SEG_PATH = \"precomputed://gs://lee-mouse-spinal-cord-001-segmentations-prod/ng/seg/240828-huge-sv-32nm-100\"\n",
    "PROOFREAD_SEG_PATH = \"graphene://https://cave.fanc-fly.com/segmentation/table/wclee_mouse_spinalcord_cltmr\"\n",
    "MIP_SEG_VOL = (32,32,45)"
   ]
  },
  {
   "cell_type": "code",
   "execution_count": 3,
   "id": "9b30d416-7c89-4b8a-b3f0-6cb009e49326",
   "metadata": {},
   "outputs": [],
   "source": [
    "flat_seg_spinalcord = cloudvolume.CloudVolume(SEG_PATH, use_https=True, mip=MIP_SEG_VOL, agglomerate=True, progress=False, parallel=False)\n",
    "seg_spinalcord = cloudvolume.CloudVolume(PROOFREAD_SEG_PATH, use_https=True, mip=MIP_SEG_VOL, agglomerate=True, progress=False, parallel=False)"
   ]
  },
  {
   "cell_type": "code",
   "execution_count": 8,
   "id": "00a54ffa-2612-4560-84d7-2879ccac062f",
   "metadata": {},
   "outputs": [
    {
     "name": "stdout",
     "output_type": "stream",
     "text": [
      "Creating root_id -> coordinates mapping w/ grouth truth labels ...\n"
     ]
    },
    {
     "name": "stderr",
     "output_type": "stream",
     "text": [
      "100%|████████████████████████████████████████████████████████████████████████████████████████████████████████████████████████████████████████████████████████| 116/116 [00:09<00:00, 11.81it/s]\n"
     ]
    }
   ],
   "source": [
    "annot_json_file = '/n/data3_vast/hms/neurobio/htem2/users/kd193/spinal_cord_embedding/dataset/annots/adhtmrp_annots_250527.json'\n",
    "root_ids_2_coords = create_rootid_2_coord_map(annot_json_file, gt_label='adhtmrp', seg_vol=seg_spinalcord, flat_seg_vol=flat_seg_spinalcord, output_dir='outputs', \n",
    "NG_MIP=(32,32,45), MIP_SEG_VOL=MIP_SEG_VOL, client=None, issynapsecoords=False)"
   ]
  },
  {
   "cell_type": "code",
   "execution_count": 13,
   "id": "f13b3764-3e61-43e2-9003-c39184f24baa",
   "metadata": {},
   "outputs": [],
   "source": [
    "# annot_json_file = '/n/data3_vast/hms/neurobio/htem2/users/kd193/spinal_cord_embedding/dataset/annots/adhtmrp_annots.json'\n",
    "# root_ids_2_coords_og = create_rootid_2_coord_map(annot_json_file, gt_label='adhtmrp', seg_vol=flat_seg_spinalcord, flat_seg_vol=flat_seg_spinalcord, output_dir='outputs', \n",
    "# NG_MIP=(32,32,45), MIP_SEG_VOL=MIP_SEG_VOL, client=None, issynapsecoords=False)\n",
    "with open('/n/data3_vast/hms/neurobio/htem2/users/kd193/spinal_cord_embedding/dataset/annots_processed/adhtmrp_annots_rootid_2_coords.json', 'r') as f:\n",
    "    root_ids_2_coords_og = json.load(f)"
   ]
  },
  {
   "cell_type": "code",
   "execution_count": 14,
   "id": "3aceea6e-0720-4e0e-8174-15642b662612",
   "metadata": {},
   "outputs": [],
   "source": [
    "for key in root_ids_2_coords:\n",
    "    if key in list(root_ids_2_coords_og.keys()):\n",
    "        print(key)"
   ]
  },
  {
   "cell_type": "code",
   "execution_count": 10,
   "id": "2a42da9f-df78-4cca-a4ec-486c2ab08945",
   "metadata": {},
   "outputs": [
    {
     "data": {
      "text/plain": [
       "45"
      ]
     },
     "execution_count": 10,
     "metadata": {},
     "output_type": "execute_result"
    }
   ],
   "source": [
    "len(root_ids_2_coords)"
   ]
  },
  {
   "cell_type": "code",
   "execution_count": 15,
   "id": "e0762a0e-086b-49e9-9ec2-be867cf27f02",
   "metadata": {},
   "outputs": [
    {
     "data": {
      "text/plain": [
       "30"
      ]
     },
     "execution_count": 15,
     "metadata": {},
     "output_type": "execute_result"
    }
   ],
   "source": [
    "len(root_ids_2_coords_og)"
   ]
  },
  {
   "cell_type": "code",
   "execution_count": 11,
   "id": "21ad70ec-ccd1-4af3-afb2-f67a8a65e2ae",
   "metadata": {},
   "outputs": [
    {
     "data": {
      "text/plain": [
       "[76631838159851400,\n",
       " 79869006080741070,\n",
       " 79446588061263943,\n",
       " 82331912126976024,\n",
       " 80784280791416902,\n",
       " 80079632417787702,\n",
       " 81488311494995616,\n",
       " 78672325314185740,\n",
       " 78320687349066503,\n",
       " 78953937327270755,\n",
       " 77898201079788643,\n",
       " 78531656209785654,\n",
       " 78953938333769705,\n",
       " 75998313505173418,\n",
       " 75716838260039202,\n",
       " 75927944626765715,\n",
       " 82121768302676559,\n",
       " 81205875116707546,\n",
       " 80291013058447185,\n",
       " 80783318987198535,\n",
       " 77264951101680773,\n",
       " 75154025477119681,\n",
       " 79024375998794822,\n",
       " 76632937671506745,\n",
       " 79939031630141454,\n",
       " 79024169102183415,\n",
       " 82191587626523172,\n",
       " 81558680440460253,\n",
       " 81487487398098105,\n",
       " 80502187473514665,\n",
       " 81205737879048504,\n",
       " 82613250134474253,\n",
       " 83035462666669136,\n",
       " 78179744037884105,\n",
       " 79164975645577567,\n",
       " 73254070323842608,\n",
       " 74450338505164097,\n",
       " 74520569944535439,\n",
       " 81559092488850518,\n",
       " 80502050907029547,\n",
       " 78039143787083807,\n",
       " 80009674983801421,\n",
       " 76983475856529314,\n",
       " 78602024819628510,\n",
       " 78250387391420850]"
      ]
     },
     "execution_count": 11,
     "metadata": {},
     "output_type": "execute_result"
    }
   ],
   "source": [
    "[int(root_id) for root_id in list(root_ids_2_coords.keys())]"
   ]
  },
  {
   "cell_type": "code",
   "execution_count": null,
   "id": "0481cffb-843d-4362-ab6e-1638fb9c0e36",
   "metadata": {},
   "outputs": [],
   "source": []
  }
 ],
 "metadata": {
  "kernelspec": {
   "display_name": "Python 3 (ipykernel)",
   "language": "python",
   "name": "python3"
  },
  "language_info": {
   "codemirror_mode": {
    "name": "ipython",
    "version": 3
   },
   "file_extension": ".py",
   "mimetype": "text/x-python",
   "name": "python",
   "nbconvert_exporter": "python",
   "pygments_lexer": "ipython3",
   "version": "3.10.16"
  }
 },
 "nbformat": 4,
 "nbformat_minor": 5
}
