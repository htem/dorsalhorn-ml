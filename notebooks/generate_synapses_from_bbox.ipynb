{
 "cells": [
  {
   "cell_type": "code",
   "execution_count": 19,
   "id": "5c60b21f-6625-4b71-be53-372306e18cac",
   "metadata": {},
   "outputs": [],
   "source": [
    "# Libraries\n",
    "import caveclient\n",
    "import subprocess\n",
    "import json\n",
    "import numpy as np\n",
    "import matplotlib.pyplot as plt\n",
    "from tqdm import tqdm"
   ]
  },
  {
   "cell_type": "markdown",
   "id": "96cbb15a-127a-4f28-99b0-90f7578e874d",
   "metadata": {},
   "source": [
    "## Quick notebook on how to create annotations of synapses given a bounding box from neuroglancer link\n",
    "- Example: https://spelunker.cave-explorer.org/#!middleauth+https://global.daf-apis.com/nglstate/api/v1/4993893092294656"
   ]
  },
  {
   "cell_type": "markdown",
   "id": "d35a94cc-302d-47dc-9da4-aeffa462daec",
   "metadata": {
    "jp-MarkdownHeadingCollapsed": true
   },
   "source": [
    "### Helper functions and variables"
   ]
  },
  {
   "cell_type": "code",
   "execution_count": 7,
   "id": "0b2cdd45-c44b-4cf8-958e-1ffdae14f7dd",
   "metadata": {},
   "outputs": [],
   "source": [
    "new_annotation_template = { # standard spleuker annotation template for neuroglancer\n",
    "      \"type\": \"annotation\",\n",
    "      \"source\": {\n",
    "        \"url\": \"local://annotations\",\n",
    "        \"transform\": {\n",
    "          \"outputDimensions\": {\n",
    "            \"x\": [\n",
    "              3.2e-8,\n",
    "              \"m\"\n",
    "            ],\n",
    "            \"y\": [\n",
    "              3.2e-8,\n",
    "              \"m\"\n",
    "            ],\n",
    "            \"z\": [\n",
    "              4.5e-8,\n",
    "              \"m\"\n",
    "            ]\n",
    "          }\n",
    "        }\n",
    "      },\n",
    "      \"tab\": \"source\",\n",
    "      \"annotations\": [],\n",
    "      \"name\": \"annotation1\"\n",
    "}\n",
    "\n",
    "\n",
    "def create_ng_link_with_annots(existing_json_state, new_annot_name, coordinates, client):\n",
    "    \"\"\" \n",
    "    Given some annotation coordinates, and a new annotation layer, create a ng link (base using spelunker.cave) \n",
    "    \"\"\"\n",
    "    new_annots = create_copy_paste_annot_list(annot_pt_list = coordinates, mip=(32,32,45), connected=True)\n",
    "    new_annotation_layer = new_annotation_template.copy()\n",
    "\n",
    "    new_annotation_layer['name'] = new_annot_name\n",
    "    new_annotation_layer['annotations'] = new_annots\n",
    "    existing_json_state['layers'].append(new_annotation_layer)\n",
    "    new_id = client.state.upload_state_json(existing_json_state)\n",
    "    print('New neuroglancer id:', new_id)\n",
    "\n",
    "    ng_link_url = 'https://spelunker.cave-explorer.org/#!middleauth+https://global.daf-apis.com/nglstate/api/v1/'\n",
    "    print('Link generated')\n",
    "    print(ng_link_url + str(new_id))\n",
    "    return new_id, ng_link_url\n",
    "\n",
    "\n",
    "def create_copy_paste_annot_list(annot_pt_list = [], mip=(32,32,45), description_list = None, connected=False, autocopy=False):\n",
    "    \"\"\" \n",
    "    List of annotations to copy/paste to spleunker.cave \n",
    "    \"\"\"\n",
    "\n",
    "    if description_list == None:\n",
    "        description_list = [\"\" for _ in range(len(annot_pt_list))]\n",
    "    else:\n",
    "        assert len(annot_pt_list) == len(description_list)\n",
    "\n",
    "    annots = []\n",
    "    for i, pt in enumerate(annot_pt_list):\n",
    "        if connected:\n",
    "            pt_dict = {\n",
    "              \"pointA\": list([int(pt[0][0]/mip[0]), int(pt[0][1]/mip[1]), int(pt[0][2]/mip[2])]),\n",
    "              \"pointB\": list([int(pt[1][0]/mip[0]), int(pt[1][1]/mip[1]), int(pt[1][2]/mip[2])]),\n",
    "              \"type\": \"line\",\n",
    "              \"id\": \"b6f2611ba4basd3635da2ea158ee9853fab0dabf\"+str(i), # random id. Needs to be unique for each annot\n",
    "              \"description\": pt[2]\n",
    "            }\n",
    "        else:\n",
    "            pt_dict = {\"point\": list([int(pt[0]/mip[0]), int(pt[1]/mip[1]), int(pt[2]/mip[2])]), \n",
    "                       \"description\": str(description_list[i]), \n",
    "                       \"type\": \"point\", \"id\": \"b6f2611ba4basd3635da2ea158ee9853fab0dabf\"+str(i)}\n",
    "            \n",
    "        annots.append(pt_dict)\n",
    "\n",
    "    if autocopy:\n",
    "        subprocess.run(\"pbcopy\", text=True, input=json.dumps(annots))\n",
    "    return annots"
   ]
  },
  {
   "cell_type": "markdown",
   "id": "962b6bc8-10d7-420b-b382-d7fc7561c0d2",
   "metadata": {},
   "source": [
    "### Main run"
   ]
  },
  {
   "cell_type": "code",
   "execution_count": 8,
   "id": "c8c39900-c4d3-424b-a821-a02e6fd863fe",
   "metadata": {},
   "outputs": [],
   "source": [
    "# Setup caveclient\n",
    "client = caveclient.CAVEclient(\"wclee_mouse_spinalcord_cltmr\", )"
   ]
  },
  {
   "cell_type": "code",
   "execution_count": 15,
   "id": "6cc9049a-9c2f-4043-a329-67094f5acd29",
   "metadata": {},
   "outputs": [],
   "source": [
    "# Get neuroglancer json state\n",
    "ng_link_code = 6237693408182272 # last number of neuroglancer link\n",
    "json_state = client.state.get_state_json(ng_link_code) # modify if needed\n",
    "\n",
    "annots = json_state['layers'][4]['annotations'] # get annotation layer (modify if needed). Annot layer may not always be 4th/5th in line"
   ]
  },
  {
   "cell_type": "code",
   "execution_count": 26,
   "id": "988be37b-2fb6-4ad4-bf73-bcf3e600813a",
   "metadata": {},
   "outputs": [],
   "source": [
    "# Create a coordinates list\n",
    "coordinates = []"
   ]
  },
  {
   "cell_type": "code",
   "execution_count": 27,
   "id": "f2df037f-6bd1-41ac-a86c-092eef350abf",
   "metadata": {},
   "outputs": [
    {
     "name": "stdout",
     "output_type": "stream",
     "text": [
      "Collecting synapses:\n"
     ]
    },
    {
     "name": "stderr",
     "output_type": "stream",
     "text": [
      " 11%|██████████▊                                                                                      | 1/9 [01:33<12:29, 93.65s/it]"
     ]
    },
    {
     "name": "stdout",
     "output_type": "stream",
     "text": [
      "Number of synapses: 110\n",
      "TOTAL number of synapses: 110\n"
     ]
    },
    {
     "name": "stderr",
     "output_type": "stream",
     "text": [
      " 22%|█████████████████████▌                                                                           | 2/9 [02:21<07:47, 66.85s/it]"
     ]
    },
    {
     "name": "stdout",
     "output_type": "stream",
     "text": [
      "Number of synapses: 148\n",
      "TOTAL number of synapses: 258\n"
     ]
    },
    {
     "name": "stderr",
     "output_type": "stream",
     "text": [
      " 33%|████████████████████████████████▎                                                                | 3/9 [02:28<03:56, 39.45s/it]"
     ]
    },
    {
     "name": "stdout",
     "output_type": "stream",
     "text": [
      "Number of synapses: 40\n",
      "TOTAL number of synapses: 298\n"
     ]
    },
    {
     "name": "stderr",
     "output_type": "stream",
     "text": [
      " 44%|███████████████████████████████████████████                                                      | 4/9 [02:35<02:13, 26.66s/it]"
     ]
    },
    {
     "name": "stdout",
     "output_type": "stream",
     "text": [
      "Number of synapses: 49\n",
      "TOTAL number of synapses: 347\n"
     ]
    },
    {
     "name": "stderr",
     "output_type": "stream",
     "text": [
      " 56%|█████████████████████████████████████████████████████▉                                           | 5/9 [02:42<01:17, 19.36s/it]"
     ]
    },
    {
     "name": "stdout",
     "output_type": "stream",
     "text": [
      "Number of synapses: 116\n",
      "TOTAL number of synapses: 463\n"
     ]
    },
    {
     "name": "stderr",
     "output_type": "stream",
     "text": [
      " 67%|████████████████████████████████████████████████████████████████▋                                | 6/9 [02:48<00:44, 14.90s/it]"
     ]
    },
    {
     "name": "stdout",
     "output_type": "stream",
     "text": [
      "Number of synapses: 65\n",
      "TOTAL number of synapses: 528\n"
     ]
    },
    {
     "name": "stderr",
     "output_type": "stream",
     "text": [
      " 78%|███████████████████████████████████████████████████████████████████████████▍                     | 7/9 [02:55<00:24, 12.27s/it]"
     ]
    },
    {
     "name": "stdout",
     "output_type": "stream",
     "text": [
      "Number of synapses: 104\n",
      "TOTAL number of synapses: 632\n"
     ]
    },
    {
     "name": "stderr",
     "output_type": "stream",
     "text": [
      " 89%|██████████████████████████████████████████████████████████████████████████████████████▏          | 8/9 [03:01<00:10, 10.53s/it]"
     ]
    },
    {
     "name": "stdout",
     "output_type": "stream",
     "text": [
      "Number of synapses: 47\n",
      "TOTAL number of synapses: 679\n"
     ]
    },
    {
     "name": "stderr",
     "output_type": "stream",
     "text": [
      "100%|█████████████████████████████████████████████████████████████████████████████████████████████████| 9/9 [03:08<00:00, 20.94s/it]"
     ]
    },
    {
     "name": "stdout",
     "output_type": "stream",
     "text": [
      "Number of synapses: 87\n",
      "TOTAL number of synapses: 766\n"
     ]
    },
    {
     "name": "stderr",
     "output_type": "stream",
     "text": [
      "\n"
     ]
    }
   ],
   "source": [
    "print(\"Collecting synapses:\")\n",
    "\n",
    "SYNAPSE_TABLE_NAME = 'synapses_v2'\n",
    "SCALE_NG = (32,32,45) # resolution of the ng link\n",
    "\n",
    "for annot in tqdm(annots):\n",
    "    assert annot['type'] == 'axis_aligned_bounding_box'\n",
    "\n",
    "    # Convert to real-world nm coordinates\n",
    "    minb = [min(annot['pointA'][0]*SCALE_NG[0], annot['pointB'][0]*SCALE_NG[0]), \n",
    "            min(annot['pointA'][1]*SCALE_NG[1], annot['pointB'][1]*SCALE_NG[1],), \n",
    "            min(annot['pointA'][2]*SCALE_NG[2], annot['pointB'][2]*SCALE_NG[2])]\n",
    "    \n",
    "    maxb = [max(annot['pointA'][0]*SCALE_NG[0], annot['pointB'][0]*SCALE_NG[0]), \n",
    "            max(annot['pointA'][1]*SCALE_NG[1], annot['pointB'][1]*SCALE_NG[1],), \n",
    "            max(annot['pointA'][2]*SCALE_NG[2], annot['pointB'][2]*SCALE_NG[2])]\n",
    "\n",
    "    bounding_box = [minb, maxb]\n",
    "    synapses_df = client.materialize.query_table(SYNAPSE_TABLE_NAME, filter_spatial_dict  = {'ctr_pt_position': bounding_box})\n",
    "\n",
    "    for i, row in synapses_df.iterrows():\n",
    "        coordinates.append([row['pre_pt_position'], row['post_pt_position'], str(row['id'])])  \n",
    "\n",
    "print('TOTAL number of synapses:', len(coordinates))"
   ]
  },
  {
   "cell_type": "code",
   "execution_count": 35,
   "id": "104d0230-e1e8-4fec-8c73-af51efe6807f",
   "metadata": {},
   "outputs": [],
   "source": [
    "# Create ng link with synapses\n",
    "create_ng_link_with_annots(json_state, new_annot_name='auto synapses', coordinates=coordinates, client=client)"
   ]
  }
 ],
 "metadata": {
  "kernelspec": {
   "display_name": "Python 3 (ipykernel)",
   "language": "python",
   "name": "python3"
  },
  "language_info": {
   "codemirror_mode": {
    "name": "ipython",
    "version": 3
   },
   "file_extension": ".py",
   "mimetype": "text/x-python",
   "name": "python",
   "nbconvert_exporter": "python",
   "pygments_lexer": "ipython3",
   "version": "3.10.16"
  }
 },
 "nbformat": 4,
 "nbformat_minor": 5
}
